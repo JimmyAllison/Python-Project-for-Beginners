{
 "cells": [
  {
   "cell_type": "markdown",
   "id": "1e0cc9e9-873c-403d-9ae9-52282a8e976b",
   "metadata": {},
   "source": [
    "# 01. Number Guessing Game"
   ]
  },
  {
   "cell_type": "code",
   "execution_count": null,
   "id": "b3c039dd-44b7-443c-b9f2-3798c1eaaf0c",
   "metadata": {},
   "outputs": [],
   "source": [
    "import random\n",
    "\n",
    "while True:\n",
    "    computer_gen = random.randint(1,10)\n",
    "    user_guess = input(\"Guess A number Between 1-10: \")\n",
    "\n",
    "    if user_guess.lower() == \"q\":\n",
    "        break\n",
    "    \n",
    "    if user_guess.isdigit():\n",
    "        if computer_gen == int(user_guess):\n",
    "            print(\"You Won :)\")\n",
    "        else:\n",
    "            print(f\"You Lose! Computer Generated Number was {computer_gen}\")\n",
    "    else:\n",
    "        print(\"Pls Input The number in Numerical Format!\")"
   ]
  },
  {
   "cell_type": "markdown",
   "id": "210869b4-2cfa-4a18-85b8-6664e305196d",
   "metadata": {
    "scrolled": true
   },
   "source": [
    "# 02. 4 Digit Password Finder "
   ]
  },
  {
   "cell_type": "code",
   "execution_count": null,
   "id": "86fb21fd-e703-4959-9144-425a1ab69cfb",
   "metadata": {},
   "outputs": [],
   "source": [
    "from getpass import getpass\n",
    "import time\n",
    "\n",
    "password = getpass(\"Enter Password: \")\n",
    "\n",
    "start_time = time.time()\n",
    "for i in range(9999):\n",
    "    guess = str(i).zfill(4)\n",
    "\n",
    "    if guess == password:\n",
    "        print(f\"Password Found: {guess}\")\n",
    "        end_time = time.time()\n",
    "        diff_time = end_time - start_time\n",
    "        print(f\"It Took {diff_time} seconds to find the password!\")\n",
    "        break"
   ]
  },
  {
   "cell_type": "markdown",
   "id": "42d5861c-4a76-404b-bb0f-55ba57d99e1a",
   "metadata": {},
   "source": [
    "# 03. Whatsapp Automation"
   ]
  },
  {
   "cell_type": "code",
   "execution_count": null,
   "id": "b5e5f972-611a-4fcb-a080-dd291d644d21",
   "metadata": {},
   "outputs": [],
   "source": [
    "import pywhatkit as kit\n",
    "import pyautogui\n",
    "import time\n",
    "\n",
    "reciever_no = \"+94774131339\"\n",
    "message = \"Happy Birth Day.\"\n",
    "\n",
    "\n",
    "kit.sendwhatmsg(reciever_no,message,time_hour=2, time_min=30)\n",
    "time.sleep(0.5)\n",
    "pyautogui.click(x=900,y=540)\n",
    "time.sleep(0.5)\n",
    "pyautogui.press(\"enter\")"
   ]
  },
  {
   "cell_type": "markdown",
   "id": "ffc92eae-4a11-4f28-96a6-9927c3607980",
   "metadata": {},
   "source": [
    "# 04. FLAMES GAME "
   ]
  },
  {
   "cell_type": "code",
   "execution_count": null,
   "id": "402683b5-3853-443c-b7d5-90dc014d2d77",
   "metadata": {},
   "outputs": [],
   "source": [
    "name1 = \"Krish\".lower()\n",
    "name2 = \"Priya\".lower()\n",
    "\n",
    "flames = [\"F\",\"L\",\"A\",\"M\",\"E\",\"S\"] \n",
    "\n",
    "meanings = {\n",
    "        'F': 'Friends',\n",
    "        'L': 'Love',\n",
    "        'A': 'Affection',\n",
    "        'M': 'Marriage',\n",
    "        'E': 'Enemies',\n",
    "        'S': 'Siblings'\n",
    "    }\n",
    "\n",
    "def findRemainingLCount(name1,name2):\n",
    "    for l in name1:\n",
    "        if l in name2:\n",
    "            name1 = name1.replace(l,\"\")\n",
    "            name2 = name2.replace(l,\"\")\n",
    "    lcount = len(name1 + name2)\n",
    "    return lcount\n",
    "\n",
    "lcount = findRemainingLCount(name1,name2)\n",
    "\n",
    "while len(flames) != 1:\n",
    "    flames_count = len(flames)\n",
    "    remaning_value = lcount % flames_count\n",
    "    \n",
    "    if remaning_value == 0:\n",
    "        drop_idx = flames_count\n",
    "    else:\n",
    "        drop_idx = remaning_value\n",
    "       \n",
    "    flames.pop(drop_idx - 1)\n",
    "print(meanings[flames[0]])"
   ]
  },
  {
   "cell_type": "markdown",
   "id": "def3ec28-f423-42c1-9281-7f18fe5c1a93",
   "metadata": {},
   "source": [
    "# 05. Hangman"
   ]
  },
  {
   "cell_type": "code",
   "execution_count": 5,
   "id": "9cf009be-88a5-4745-a8ba-43141f8ed09e",
   "metadata": {},
   "outputs": [],
   "source": [
    "# 1. computer want generate a random word: eg:  cat ---> completed\n",
    "# 2. want get user input\n",
    "# 3. computer want check whether the L is present in the word or not\n",
    "#     if L found:\n",
    "#        want to fill want to fill blanks\n",
    "#     else:\n",
    "#         want draw the figure(gallows)\n",
    "# 4. if figure is completed before the word, computer won, if not word completed before figure user won."
   ]
  },
  {
   "cell_type": "code",
   "execution_count": 19,
   "id": "414aaa55-1dcd-4df2-81f2-b051f538faf3",
   "metadata": {},
   "outputs": [],
   "source": [
    "hangman_stages = [\n",
    "        \"\"\"\n",
    "           -----\n",
    "           |   |\n",
    "           |   \n",
    "           |   \n",
    "           |   \n",
    "           |   \n",
    "        _______|\n",
    "        \"\"\",\n",
    "        \"\"\"\n",
    "           -----\n",
    "           |   |\n",
    "           |   O\n",
    "           |   \n",
    "           |   \n",
    "           |   \n",
    "        _______|\n",
    "        \"\"\",\n",
    "        \"\"\"\n",
    "           -----\n",
    "           |   |\n",
    "           |   O\n",
    "           |   |\n",
    "           |   \n",
    "           |   \n",
    "        _______|\n",
    "        \"\"\",\n",
    "        \"\"\"\n",
    "           -----\n",
    "           |   |\n",
    "           |   O\n",
    "           |  /|\n",
    "           |   \n",
    "           |   \n",
    "        _______|\n",
    "        \"\"\",\n",
    "        \"\"\"\n",
    "           -----\n",
    "           |   |\n",
    "           |   O\n",
    "           |  /|\\\\\n",
    "           |   \n",
    "           |   \n",
    "        _______|\n",
    "        \"\"\",\n",
    "        \"\"\"\n",
    "           -----\n",
    "           |   |\n",
    "           |   O\n",
    "           |  /|\\\\\n",
    "           |  / \n",
    "           |   \n",
    "        _______|\n",
    "        \"\"\",\n",
    "        \"\"\"\n",
    "           -----\n",
    "           |   |\n",
    "           |   O\n",
    "           |  /|\\\\\n",
    "           |  / \\\\\n",
    "           |   \n",
    "        _______|\n",
    "        \"\"\"\n",
    "    ]"
   ]
  },
  {
   "cell_type": "code",
   "execution_count": 10,
   "id": "86c8f315-1f72-437a-9b2f-b68d2656f7db",
   "metadata": {},
   "outputs": [],
   "source": [
    "def update_blank_list(word,user_guess,blank_list):\n",
    "    for idx,l in enumerate(word):\n",
    "        if l == user_guess:\n",
    "            blank_list[idx] = l\n",
    "    return blank_list"
   ]
  },
  {
   "cell_type": "code",
   "execution_count": 9,
   "id": "55e6a865-c012-47eb-b20e-0cb5cab7f214",
   "metadata": {},
   "outputs": [],
   "source": [
    "import random"
   ]
  },
  {
   "cell_type": "code",
   "execution_count": 6,
   "id": "a7019d87-3b9f-43f1-9193-1f2eeaff99a9",
   "metadata": {},
   "outputs": [],
   "source": [
    "with open(\"words.txt\") as file:\n",
    "    words = file.read()\n",
    "words = words.split(\"\\n\")\n"
   ]
  },
  {
   "cell_type": "code",
   "execution_count": 21,
   "id": "9bcec5be-2f4e-4dba-a7e8-d7b0c8218f13",
   "metadata": {
    "scrolled": true
   },
   "outputs": [
    {
     "name": "stdin",
     "output_type": "stream",
     "text": [
      "Guess a letter a\n"
     ]
    },
    {
     "name": "stdout",
     "output_type": "stream",
     "text": [
      "\n",
      "           -----\n",
      "           |   |\n",
      "           |   O\n",
      "           |   \n",
      "           |   \n",
      "           |   \n",
      "        _______|\n",
      "        \n"
     ]
    },
    {
     "name": "stdin",
     "output_type": "stream",
     "text": [
      "Guess a letter a\n"
     ]
    },
    {
     "name": "stdout",
     "output_type": "stream",
     "text": [
      "\n",
      "           -----\n",
      "           |   |\n",
      "           |   O\n",
      "           |   |\n",
      "           |   \n",
      "           |   \n",
      "        _______|\n",
      "        \n"
     ]
    },
    {
     "name": "stdin",
     "output_type": "stream",
     "text": [
      "Guess a letter e\n"
     ]
    },
    {
     "name": "stdout",
     "output_type": "stream",
     "text": [
      "['_', 'e', 'e', '_']\n"
     ]
    },
    {
     "name": "stdin",
     "output_type": "stream",
     "text": [
      "Guess a letter i\n"
     ]
    },
    {
     "name": "stdout",
     "output_type": "stream",
     "text": [
      "\n",
      "           -----\n",
      "           |   |\n",
      "           |   O\n",
      "           |  /|\n",
      "           |   \n",
      "           |   \n",
      "        _______|\n",
      "        \n"
     ]
    },
    {
     "name": "stdin",
     "output_type": "stream",
     "text": [
      "Guess a letter r\n"
     ]
    },
    {
     "name": "stdout",
     "output_type": "stream",
     "text": [
      "\n",
      "           -----\n",
      "           |   |\n",
      "           |   O\n",
      "           |  /|\\\n",
      "           |   \n",
      "           |   \n",
      "        _______|\n",
      "        \n"
     ]
    },
    {
     "name": "stdin",
     "output_type": "stream",
     "text": [
      "Guess a letter o\n"
     ]
    },
    {
     "name": "stdout",
     "output_type": "stream",
     "text": [
      "\n",
      "           -----\n",
      "           |   |\n",
      "           |   O\n",
      "           |  /|\\\n",
      "           |  / \n",
      "           |   \n",
      "        _______|\n",
      "        \n"
     ]
    },
    {
     "name": "stdin",
     "output_type": "stream",
     "text": [
      "Guess a letter p\n"
     ]
    },
    {
     "name": "stdout",
     "output_type": "stream",
     "text": [
      "['_', 'e', 'e', 'p']\n"
     ]
    },
    {
     "name": "stdin",
     "output_type": "stream",
     "text": [
      "Guess a letter k\n"
     ]
    },
    {
     "name": "stdout",
     "output_type": "stream",
     "text": [
      "['k', 'e', 'e', 'p']\n",
      "You Won\n"
     ]
    },
    {
     "name": "stdin",
     "output_type": "stream",
     "text": [
      "Guess a letter a\n"
     ]
    },
    {
     "name": "stdout",
     "output_type": "stream",
     "text": [
      "\n",
      "           -----\n",
      "           |   |\n",
      "           |   O\n",
      "           |   \n",
      "           |   \n",
      "           |   \n",
      "        _______|\n",
      "        \n"
     ]
    },
    {
     "ename": "KeyboardInterrupt",
     "evalue": "Interrupted by user",
     "output_type": "error",
     "traceback": [
      "\u001b[1;31m---------------------------------------------------------------------------\u001b[0m",
      "\u001b[1;31mKeyboardInterrupt\u001b[0m                         Traceback (most recent call last)",
      "Cell \u001b[1;32mIn[21], line 6\u001b[0m\n\u001b[0;32m      3\u001b[0m wrong_guess_count \u001b[38;5;241m=\u001b[39m \u001b[38;5;241m0\u001b[39m\n\u001b[0;32m      5\u001b[0m \u001b[38;5;28;01mwhile\u001b[39;00m \u001b[38;5;28;01mTrue\u001b[39;00m:\n\u001b[1;32m----> 6\u001b[0m     user_guess \u001b[38;5;241m=\u001b[39m \u001b[38;5;28;43minput\u001b[39;49m\u001b[43m(\u001b[49m\u001b[38;5;124;43m\"\u001b[39;49m\u001b[38;5;124;43mGuess a letter\u001b[39;49m\u001b[38;5;124;43m\"\u001b[39;49m\u001b[43m)\u001b[49m\u001b[38;5;241m.\u001b[39mlower()\n\u001b[0;32m      7\u001b[0m     \u001b[38;5;28;01mif\u001b[39;00m user_guess \u001b[38;5;129;01min\u001b[39;00m word:\n\u001b[0;32m      8\u001b[0m         blank_list \u001b[38;5;241m=\u001b[39m update_blank_list(word,user_guess,blank_list)\n",
      "File \u001b[1;32mC:\\ProgramData\\anaconda3\\envs\\RL\\lib\\site-packages\\ipykernel\\kernelbase.py:1270\u001b[0m, in \u001b[0;36mKernel.raw_input\u001b[1;34m(self, prompt)\u001b[0m\n\u001b[0;32m   1268\u001b[0m     msg \u001b[38;5;241m=\u001b[39m \u001b[38;5;124m\"\u001b[39m\u001b[38;5;124mraw_input was called, but this frontend does not support input requests.\u001b[39m\u001b[38;5;124m\"\u001b[39m\n\u001b[0;32m   1269\u001b[0m     \u001b[38;5;28;01mraise\u001b[39;00m StdinNotImplementedError(msg)\n\u001b[1;32m-> 1270\u001b[0m \u001b[38;5;28;01mreturn\u001b[39;00m \u001b[38;5;28;43mself\u001b[39;49m\u001b[38;5;241;43m.\u001b[39;49m\u001b[43m_input_request\u001b[49m\u001b[43m(\u001b[49m\n\u001b[0;32m   1271\u001b[0m \u001b[43m    \u001b[49m\u001b[38;5;28;43mstr\u001b[39;49m\u001b[43m(\u001b[49m\u001b[43mprompt\u001b[49m\u001b[43m)\u001b[49m\u001b[43m,\u001b[49m\n\u001b[0;32m   1272\u001b[0m \u001b[43m    \u001b[49m\u001b[38;5;28;43mself\u001b[39;49m\u001b[38;5;241;43m.\u001b[39;49m\u001b[43m_parent_ident\u001b[49m\u001b[43m[\u001b[49m\u001b[38;5;124;43m\"\u001b[39;49m\u001b[38;5;124;43mshell\u001b[39;49m\u001b[38;5;124;43m\"\u001b[39;49m\u001b[43m]\u001b[49m\u001b[43m,\u001b[49m\n\u001b[0;32m   1273\u001b[0m \u001b[43m    \u001b[49m\u001b[38;5;28;43mself\u001b[39;49m\u001b[38;5;241;43m.\u001b[39;49m\u001b[43mget_parent\u001b[49m\u001b[43m(\u001b[49m\u001b[38;5;124;43m\"\u001b[39;49m\u001b[38;5;124;43mshell\u001b[39;49m\u001b[38;5;124;43m\"\u001b[39;49m\u001b[43m)\u001b[49m\u001b[43m,\u001b[49m\n\u001b[0;32m   1274\u001b[0m \u001b[43m    \u001b[49m\u001b[43mpassword\u001b[49m\u001b[38;5;241;43m=\u001b[39;49m\u001b[38;5;28;43;01mFalse\u001b[39;49;00m\u001b[43m,\u001b[49m\n\u001b[0;32m   1275\u001b[0m \u001b[43m\u001b[49m\u001b[43m)\u001b[49m\n",
      "File \u001b[1;32mC:\\ProgramData\\anaconda3\\envs\\RL\\lib\\site-packages\\ipykernel\\kernelbase.py:1313\u001b[0m, in \u001b[0;36mKernel._input_request\u001b[1;34m(self, prompt, ident, parent, password)\u001b[0m\n\u001b[0;32m   1310\u001b[0m \u001b[38;5;28;01mexcept\u001b[39;00m \u001b[38;5;167;01mKeyboardInterrupt\u001b[39;00m:\n\u001b[0;32m   1311\u001b[0m     \u001b[38;5;66;03m# re-raise KeyboardInterrupt, to truncate traceback\u001b[39;00m\n\u001b[0;32m   1312\u001b[0m     msg \u001b[38;5;241m=\u001b[39m \u001b[38;5;124m\"\u001b[39m\u001b[38;5;124mInterrupted by user\u001b[39m\u001b[38;5;124m\"\u001b[39m\n\u001b[1;32m-> 1313\u001b[0m     \u001b[38;5;28;01mraise\u001b[39;00m \u001b[38;5;167;01mKeyboardInterrupt\u001b[39;00m(msg) \u001b[38;5;28;01mfrom\u001b[39;00m \u001b[38;5;28;01mNone\u001b[39;00m\n\u001b[0;32m   1314\u001b[0m \u001b[38;5;28;01mexcept\u001b[39;00m \u001b[38;5;167;01mException\u001b[39;00m:\n\u001b[0;32m   1315\u001b[0m     \u001b[38;5;28mself\u001b[39m\u001b[38;5;241m.\u001b[39mlog\u001b[38;5;241m.\u001b[39mwarning(\u001b[38;5;124m\"\u001b[39m\u001b[38;5;124mInvalid Message:\u001b[39m\u001b[38;5;124m\"\u001b[39m, exc_info\u001b[38;5;241m=\u001b[39m\u001b[38;5;28;01mTrue\u001b[39;00m)\n",
      "\u001b[1;31mKeyboardInterrupt\u001b[0m: Interrupted by user"
     ]
    }
   ],
   "source": [
    "word = random.choice(words)\n",
    "blank_list = [\"_\"] * len(word)\n",
    "wrong_guess_count = 0\n",
    "\n",
    "while True:\n",
    "    user_guess = input(\"Guess a letter\").lower()\n",
    "    if user_guess in word:\n",
    "        blank_list = update_blank_list(word,user_guess,blank_list)\n",
    "        print(blank_list)\n",
    "        if \"_\" not in blank_list:\n",
    "            print(\"You Won\")\n",
    "            word = random.choice(words)\n",
    "            print(\"New Math\")\n",
    "            print()\n",
    "            blank_list = [\"_\"] * len(word)\n",
    "            wrong_guess_count = 0\n",
    "    else:\n",
    "        wrong_guess_count += 1\n",
    "        print(hangman_stages[wrong_guess_count])\n",
    "        if wrong_guess_count == 6:\n",
    "            print(\"You Lose!\")\n",
    "            word = random.choice(words)\n",
    "            print(\"New Math\")\n",
    "            print()\n",
    "            blank_list = [\"_\"] * len(word)\n",
    "            wrong_guess_count = 0"
   ]
  },
  {
   "cell_type": "code",
   "execution_count": 17,
   "id": "b5e34061-ebf0-4e71-a98d-1441f4b7857e",
   "metadata": {},
   "outputs": [],
   "source": []
  },
  {
   "cell_type": "code",
   "execution_count": 18,
   "id": "ea95ed0c-ee95-4c1c-b0d5-29359284db3b",
   "metadata": {},
   "outputs": [],
   "source": []
  },
  {
   "cell_type": "code",
   "execution_count": 14,
   "id": "a981c375-0a09-4253-b4ef-931fb7c7c53f",
   "metadata": {},
   "outputs": [],
   "source": []
  }
 ],
 "metadata": {
  "kernelspec": {
   "display_name": "Python 3 (ipykernel)",
   "language": "python",
   "name": "python3"
  },
  "language_info": {
   "codemirror_mode": {
    "name": "ipython",
    "version": 3
   },
   "file_extension": ".py",
   "mimetype": "text/x-python",
   "name": "python",
   "nbconvert_exporter": "python",
   "pygments_lexer": "ipython3",
   "version": "3.10.13"
  }
 },
 "nbformat": 4,
 "nbformat_minor": 5
}
